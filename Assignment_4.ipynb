{
 "cells": [
  {
   "cell_type": "markdown",
   "metadata": {},
   "source": [
    "Q. Write a Python Program(with class concepts) to find the area of the triangle using the below formula.area = (s*(s-a)*(s-b)*(s-c)) ** 0.5.\n",
    "Function to take the length of the sides of triangle from user should be defined in the parent class and function to calculate the area should be defined in subclass. \n",
    "  "
   ]
  },
  {
   "cell_type": "code",
   "execution_count": 1,
   "metadata": {},
   "outputs": [
    {
     "name": "stdout",
     "output_type": "stream",
     "text": [
      "Enter three sides of a triangle 1\n",
      "Enter three sides of a triangle 1\n",
      "Enter three sides of a triangle 1\n",
      "0.43\n"
     ]
    }
   ],
   "source": [
    "class Triangle():\n",
    "    def __init__(self,a,b,c):\n",
    "        self.a = a\n",
    "        self.b = b\n",
    "        self.c = c\n",
    "\n",
    "class Calculate(Triangle):\n",
    "    def area(self):\n",
    "        s = (self)\n",
    "        s = (self.a+self.b+self.c)/2\n",
    "        return(s*(s - self.a)*(s - self.b)*(s - self.c))**0.5\n",
    "\n",
    "if __name__ == '__main__':\n",
    "    a = int(input('Enter three sides of a triangle '))\n",
    "    b = int(input('Enter three sides of a triangle '))\n",
    "    c = int(input('Enter three sides of a triangle '))\n",
    "    obj = Calculate(a,b,c)\n",
    "    result = obj.area()\n",
    "    print(\"%.2f\" %result)\n",
    "        "
   ]
  },
  {
   "cell_type": "markdown",
   "metadata": {},
   "source": [
    "Q.  Write a function filter_long_words() that takes a list of words and an integer n and returns the list of words that are \n",
    "    longer than n."
   ]
  },
  {
   "cell_type": "code",
   "execution_count": 2,
   "metadata": {},
   "outputs": [
    {
     "name": "stdout",
     "output_type": "stream",
     "text": [
      "['Nikhil', 'Prakash', 'Chaitanya']\n"
     ]
    }
   ],
   "source": [
    "def filter_long_words(List, n):\n",
    "    NewList = []\n",
    "    for i in List:\n",
    "        Length = len(i)\n",
    "        if Length > n:\n",
    "            NewList.append(i)\n",
    "        \n",
    "\n",
    "    return NewList\n",
    "\n",
    "\n",
    "List = [\"Dias\",\"Brian\", \"Nikhil\", \"Prakash\", \"Chaitanya\"]\n",
    "n = 5\n",
    "a = filter_long_words(List, n)\n",
    "print(a)"
   ]
  },
  {
   "cell_type": "markdown",
   "metadata": {},
   "source": [
    "Q. Write a Python program using function concept that maps list of words into a list of integers representing the lengths\n",
    "   of the corresponding words. "
   ]
  },
  {
   "cell_type": "code",
   "execution_count": 4,
   "metadata": {},
   "outputs": [
    {
     "name": "stdout",
     "output_type": "stream",
     "text": [
      "[4, 5, 6, 7, 9]\n"
     ]
    }
   ],
   "source": [
    "List = [\"Dias\",\"Brian\", \"Nikhil\", \"Prakash\", \"Chaitanya\"]\n",
    "\n",
    "def myfunc(a):\n",
    "  return len(a)\n",
    "\n",
    "x = list(map(myfunc, List))\n",
    "\n",
    "print(x)"
   ]
  },
  {
   "cell_type": "markdown",
   "metadata": {},
   "source": [
    "\n",
    "\n",
    "\n",
    "\n",
    "\n",
    "\n",
    "Q.Write a Python function which takes a character (i.e. a string of length 1) and returns True if it is a vowel, False otherwise. "
   ]
  },
  {
   "cell_type": "code",
   "execution_count": 7,
   "metadata": {},
   "outputs": [
    {
     "name": "stdout",
     "output_type": "stream",
     "text": [
      "Enter any Character: i\n",
      "True\n"
     ]
    }
   ],
   "source": [
    "def check_for_vowels(x):\n",
    "    if x in ['a','e', 'i', 'o', 'u']:\n",
    "        return True\n",
    "    else:\n",
    "        return False\n",
    "x  = input(\"Enter any Character: \")\n",
    "output = check_for_vowels(x.lower())\n",
    "print(output)"
   ]
  },
  {
   "cell_type": "code",
   "execution_count": null,
   "metadata": {},
   "outputs": [],
   "source": []
  }
 ],
 "metadata": {
  "kernelspec": {
   "display_name": "Python 3",
   "language": "python",
   "name": "python3"
  },
  "language_info": {
   "codemirror_mode": {
    "name": "ipython",
    "version": 3
   },
   "file_extension": ".py",
   "mimetype": "text/x-python",
   "name": "python",
   "nbconvert_exporter": "python",
   "pygments_lexer": "ipython3",
   "version": "3.7.6"
  }
 },
 "nbformat": 4,
 "nbformat_minor": 4
}
